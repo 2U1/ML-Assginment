{
 "cells": [
  {
   "cell_type": "code",
   "execution_count": 1,
   "metadata": {},
   "outputs": [],
   "source": [
    "import pandas as pd\n",
    "import numpy as np\n",
    "from sklearn.model_selection import train_test_split"
   ]
  },
  {
   "cell_type": "code",
   "execution_count": 12,
   "metadata": {},
   "outputs": [],
   "source": [
    "class DiscriminentAnalysis():\n",
    "    def __init__(self, alpha=0.0, beta=0.0):\n",
    "        self.learned = False\n",
    "        self.alpha = alpha\n",
    "        self.beta = beta\n",
    "        self.class_names = []\n",
    "        self.class_priors = {}\n",
    "        self.class_means = {}\n",
    "        self.regularized_covariances = {}\n",
    "        self.rda_covariances = {}\n",
    "\n",
    "    def fit(self, X, y):\n",
    "        self.class_names = np.unique(y)\n",
    "        class_covariances = {}\n",
    "        pooled_covariances = 0\n",
    "        for i in self.class_names:\n",
    "            class_indices = np.where(y == i)[0]\n",
    "            class_samples = X[class_indices, :]\n",
    "            self.class_priors[i] = float(len(class_indices)) / len(y)\n",
    "            self.class_means[i] = np.mean(class_samples, axis=0)\n",
    "            class_covariances[i] = np.cov(class_samples, rowvar=0)\n",
    "            pooled_covariances += class_covariances[i] * self.class_priors[i]\n",
    "        # Calculate RDA regularized covariance matricies for each class\n",
    "        for i in self.class_names:\n",
    "            self.regularized_covariances[i] = (self.beta * class_covariances[i]) + ((1 - self.beta) * pooled_covariances)\n",
    "\n",
    "        for i in self.class_names:\n",
    "            # self.rda_covariances[i] = (self.alpha * 1/self.class_priors[i] * np.trace(self.regularized_covariances[i]) * np.eye(self.regularized_covariances[i].shape[0])) + (self.beta * pooled_covariances) \\\n",
    "            # + ((1- self.alpha- self.beta) * class_covariances[i])\n",
    "            self.rda_covariances[i] = ((1-self.alpha) * self.regularized_covariances[i]) + (self.alpha * (1/self.class_priors[i]) * np.trace(self.regularized_covariances[i]) * np.eye(self.regularized_covariances[i].shape[0]))\n",
    "        \n",
    "        self.learned = True\n",
    "        return self\n",
    "\n",
    "    def predict(self, x):\n",
    "        if not self.learned:\n",
    "            raise NameError('Fit model first')\n",
    "        # Determine probability of each class given input vector\n",
    "        class_prob = {}\n",
    "        for i in self.class_names:\n",
    "            # Divid the class delta calculation into 3 parts\n",
    "            part1 = -0.5 * np.linalg.det(self.rda_covariances[i])\n",
    "            part2 = -0.5 * np.dot(np.dot((x - self.class_means[i]).T, np.linalg.pinv(self.rda_covariances[i])), (x - self.class_means[i]))\n",
    "            part3 = np.log(self.class_priors[i])\n",
    "            class_prob[i] = part1 + part2 + part3\n",
    "        return max(class_prob, key=class_prob.get)"
   ]
  },
  {
   "cell_type": "code",
   "execution_count": 3,
   "metadata": {},
   "outputs": [],
   "source": [
    "data = pd.read_excel('../data.xlsx')"
   ]
  },
  {
   "cell_type": "code",
   "execution_count": 4,
   "metadata": {},
   "outputs": [],
   "source": [
    "y = data['Class Label'].to_numpy()\n",
    "x = data.loc[:,data.columns != 'Class Label'].to_numpy()"
   ]
  },
  {
   "cell_type": "code",
   "execution_count": 5,
   "metadata": {},
   "outputs": [],
   "source": [
    "x_train, x_test, y_train, y_test = train_test_split(x, y, test_size = 0.3, stratify=y)"
   ]
  }
 ],
 "metadata": {
  "interpreter": {
   "hash": "beb438d93d12d7d23f01da6e4ea2d18002922c4c96e890e3b42977e18c7fe317"
  },
  "kernelspec": {
   "display_name": "Python 3.8.5 64-bit (conda)",
   "name": "python3"
  },
  "language_info": {
   "codemirror_mode": {
    "name": "ipython",
    "version": 3
   },
   "file_extension": ".py",
   "mimetype": "text/x-python",
   "name": "python",
   "nbconvert_exporter": "python",
   "pygments_lexer": "ipython3",
   "version": "3.8.5"
  },
  "orig_nbformat": 4
 },
 "nbformat": 4,
 "nbformat_minor": 2
}
