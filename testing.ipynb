{
 "cells": [
  {
   "cell_type": "code",
   "execution_count": 1,
   "metadata": {},
   "outputs": [],
   "source": [
    "import pandas as pd\n",
    "import numpy as np\n",
    "from sklearn.model_selection import train_test_split\n",
    "from sklearn.metrics import accuracy_score, precision_score, recall_score, confusion_matrix, f1_score"
   ]
  },
  {
   "cell_type": "code",
   "execution_count": 2,
   "metadata": {},
   "outputs": [],
   "source": [
    "def get_clf_eval(y_test, pred):\n",
    "    accuracy = accuracy_score(y_test, pred)\n",
    "    recall = recall_score(y_test, pred, average='micro')\n",
    "    precision = precision_score(y_test, pred, average='micro')\n",
    "    f1 = f1_score(y_test, pred, average='micro')\n",
    "    print('Accuracy:{0:.4f}, Recall:{1:.4f}, Precision:{2:.4f}, F1-Score:{3:.4f}'.format(accuracy, recall, precision, f1))"
   ]
  },
  {
   "cell_type": "code",
   "execution_count": 3,
   "metadata": {},
   "outputs": [],
   "source": [
    "def make_confusion(y_test, y_pred):\n",
    "    confusion = confusion_matrix(y_test,y_pred)\n",
    "    confusion_df = pd.DataFrame(confusion,columns=['Predicted_Negative','Predicted_Positive'],index=['Actual_Negative','Actual_Positive'])\n",
    "    \n",
    "    return confusion_df"
   ]
  },
  {
   "cell_type": "code",
   "execution_count": 4,
   "metadata": {},
   "outputs": [],
   "source": [
    "def load_dataset(directory):\n",
    "\n",
    "    global input_cnt, output_cnt, data, x, y\n",
    "\n",
    "    data = pd.read_csv(directory)\n",
    "    input_cnt = data.loc[:, data.columns != 'Class Label'].shape[1]\n",
    "    # output_cnt = data['Class Label'].shape[1]\n",
    "    output_cnt = 1\n",
    "    y = data['Class Label'].to_numpy()\n",
    "    x = data.loc[:, data.columns != 'Class Label'].to_numpy()"
   ]
  },
  {
   "cell_type": "code",
   "execution_count": 31,
   "metadata": {},
   "outputs": [],
   "source": [
    "class DiscriminentAnalysis():\n",
    "    def __init__(self, alpha=0.0, beta=0.0):\n",
    "        self.learned = False\n",
    "        self.alpha = alpha\n",
    "        self.beta = beta\n",
    "        self.class_names = []\n",
    "        self.class_priors = {}\n",
    "        self.class_means = {}\n",
    "        self.regularized_covariances = {}\n",
    "        self.rda_covariances = {}\n",
    "        self.reset()\n",
    "\n",
    "    def reset(self):\n",
    "        self.learned = False\n",
    "        self.class_names = []\n",
    "        self.class_priors = {}\n",
    "        self.class_means = {}\n",
    "        self.regularized_covariances = {}\n",
    "        self.rda_covariances = {}\n",
    "\n",
    "    def fit(self, X, y):\n",
    "        self.class_names = np.unique(y)\n",
    "        class_covariances = {}\n",
    "        pooled_covariances = 0\n",
    "        for i in self.class_names:\n",
    "            class_indices = np.where(y == i)[0]\n",
    "            class_samples = X[class_indices, :]\n",
    "            self.class_priors[i] = float(len(class_indices)) / len(y)\n",
    "            self.class_means[i] = np.mean(class_samples, axis=0)\n",
    "            class_covariances[i] = np.cov(class_samples, rowvar=0)\n",
    "            pooled_covariances += class_covariances[i] * self.class_priors[i]\n",
    "        # Calculate RDA regularized covariance matricies for each class\n",
    "        for i in self.class_names:\n",
    "            self.regularized_covariances[i] = (self.beta * pooled_covariances) + ((1 - self.beta) *class_covariances[i])\n",
    "            # self.regularized_covariances[i] = (self.beta * class_covariances[i]) + ((1 - self.beta) * pooled_covariances)\n",
    "\n",
    "        for i in self.class_names:\n",
    "            self.rda_covariances[i] = ((1-self.alpha) * self.regularized_covariances[i]) + (self.alpha * (1/self.class_priors[i]) * np.trace(self.regularized_covariances[i]) * np.eye(self.regularized_covariances[i].shape[0]))\n",
    "        \n",
    "        self.learned = True\n",
    "        return self\n",
    "\n",
    "    def predict(self, x):\n",
    "        if not self.learned:\n",
    "            raise NameError('Fit model first')\n",
    "        # Determine probability of each class given input vector\n",
    "        \n",
    "        class_prob = {}\n",
    "        for i in self.class_names:\n",
    "            # Divid the class delta calculation into 3 parts\n",
    "            part1 = -0.5 * np.log1p(np.linalg.det(self.rda_covariances[i]))\n",
    "            # part2 = -0.5 * np.dot(np.dot((x - self.class_means[i]).T, np.linalg.pinv(self.rda_covariances[i])), (x - self.class_means[i]))\n",
    "            part2 = -0.5 * np.matmul(np.matmul((x - self.class_means[i]).T, np.linalg.pinv(self.rda_covariances[i])), (x - self.class_means[i]))\n",
    "            part3 = np.log(self.class_priors[i])\n",
    "            class_prob[i] = part1 + part2 + part3\n",
    "        return max(class_prob, key=class_prob.get)"
   ]
  },
  {
   "cell_type": "code",
   "execution_count": 66,
   "metadata": {},
   "outputs": [],
   "source": [
    "class GridSearchRDA():\n",
    "    def __init__(self, model, param_grid):\n",
    "        self.model = model\n",
    "        self.param_grid = param_grid\n",
    "        self.alpha = 0\n",
    "        self.beta = 0\n",
    "        self.best_covariance = {}\n",
    "        self.best_score = 0\n",
    "\n",
    "\n",
    "    def fit(self, X, y, cv=3):\n",
    "        \n",
    "        # metric_score = []\n",
    "\n",
    "        alpha_list = self.param_grid['alpha']\n",
    "        beta_list = self.param_grid['beta']\n",
    "\n",
    "        cv_x = np.split(X, cv)\n",
    "        cv_y = np.split(y, cv)\n",
    "\n",
    "        for alpha in alpha_list:\n",
    "            for beta in beta_list:\n",
    "                score_list = []\n",
    "                for i in range(cv):\n",
    "                    self.model.reset()\n",
    "                    self.model.alpha = alpha\n",
    "                    self.model.beta = beta\n",
    "\n",
    "                    test_x_cv = cv_x[i]\n",
    "                    train_x_cv = np.vstack(cv_x[:i] + cv_x[i + 1:])\n",
    "\n",
    "                    test_y_cv = cv_y[i]\n",
    "                    train_y_cv = np.vstack(cv_y[:i] + cv_y[i + 1:]).flatten()\n",
    "\n",
    "                    \n",
    "                    self.model.fit(train_x_cv, train_y_cv)\n",
    "\n",
    "                    pred = []\n",
    "\n",
    "                    for data in test_x_cv:\n",
    "                        pred.append(self.model.predict(data))\n",
    "                    \n",
    "                    score_list.append(f1_score(test_y_cv, pred, average='micro'))\n",
    "                \n",
    "                mean_score = np.mean(np.array(score_list))\n",
    "                print(\"alpha:{0:.1f}, beta:{1:.1f}, f1-score:{2:.8f}\".format(alpha, beta,mean_score))\n",
    "\n",
    "                if mean_score > self.best_score:\n",
    "                    self.best_score = mean_score\n",
    "                    self.alpha = alpha\n",
    "                    self.beta = beta\n",
    "                    self.best_covariance = self.model.rda_covariances\n",
    "                    # self.best_estimator = self.model"
   ]
  },
  {
   "cell_type": "code",
   "execution_count": 67,
   "metadata": {},
   "outputs": [],
   "source": [
    "load_dataset('./facial_expression_train_dataset.csv')"
   ]
  },
  {
   "cell_type": "code",
   "execution_count": 68,
   "metadata": {},
   "outputs": [],
   "source": [
    "x_train, x_test, y_train, y_test = train_test_split(x, y, test_size = 0.2, stratify=y, random_state=104)"
   ]
  },
  {
   "cell_type": "code",
   "execution_count": 69,
   "metadata": {},
   "outputs": [
    {
     "data": {
      "text/plain": [
       "array([1, 2, 2, 1, 2, 2, 3, 1, 3, 1, 1, 3, 2, 3, 3, 2, 3, 2, 1, 2, 1, 2,\n",
       "       3, 3, 2, 1, 2, 1, 3, 2, 1, 2, 3, 1, 2, 1, 3, 2, 3, 2, 1, 3, 1, 1,\n",
       "       3, 3, 3, 2, 3, 1, 1, 1, 2, 2, 3, 2, 3, 1, 3, 1, 2, 1, 3, 1, 1, 3,\n",
       "       2, 3, 2], dtype=int64)"
      ]
     },
     "execution_count": 69,
     "metadata": {},
     "output_type": "execute_result"
    }
   ],
   "source": [
    "y_train"
   ]
  },
  {
   "cell_type": "code",
   "execution_count": 70,
   "metadata": {},
   "outputs": [],
   "source": [
    "dis = DiscriminentAnalysis()"
   ]
  },
  {
   "cell_type": "code",
   "execution_count": 71,
   "metadata": {},
   "outputs": [],
   "source": [
    "params = {\n",
    "    'alpha': np.linspace(0.0, 1.0, num=11, endpoint=True),\n",
    "    'beta': np.linspace(0.0, 1.0, num=11, endpoint=True)\n",
    "}"
   ]
  },
  {
   "cell_type": "code",
   "execution_count": 72,
   "metadata": {},
   "outputs": [],
   "source": [
    "grid = GridSearchRDA(dis, params)"
   ]
  },
  {
   "cell_type": "code",
   "execution_count": 73,
   "metadata": {},
   "outputs": [
    {
     "name": "stdout",
     "output_type": "stream",
     "text": [
      "alpha:0.0, beta:0.0, f1-score:0.82608696\n",
      "alpha:0.0, beta:0.1, f1-score:0.97101449\n",
      "alpha:0.0, beta:0.2, f1-score:0.95652174\n",
      "alpha:0.0, beta:0.3, f1-score:0.95652174\n",
      "alpha:0.0, beta:0.4, f1-score:0.95652174\n",
      "alpha:0.0, beta:0.5, f1-score:0.95652174\n",
      "alpha:0.0, beta:0.6, f1-score:0.95652174\n",
      "alpha:0.0, beta:0.7, f1-score:0.97101449\n",
      "alpha:0.0, beta:0.8, f1-score:0.95652174\n",
      "alpha:0.0, beta:0.9, f1-score:0.95652174\n",
      "alpha:0.0, beta:1.0, f1-score:0.95652174\n",
      "alpha:0.1, beta:0.0, f1-score:0.60869565\n",
      "alpha:0.1, beta:0.1, f1-score:0.62318841\n",
      "alpha:0.1, beta:0.2, f1-score:0.66666667\n",
      "alpha:0.1, beta:0.3, f1-score:0.66666667\n",
      "alpha:0.1, beta:0.4, f1-score:0.65217391\n",
      "alpha:0.1, beta:0.5, f1-score:0.62318841\n",
      "alpha:0.1, beta:0.6, f1-score:0.53623188\n",
      "alpha:0.1, beta:0.7, f1-score:0.47826087\n",
      "alpha:0.1, beta:0.8, f1-score:0.52173913\n",
      "alpha:0.1, beta:0.9, f1-score:0.52173913\n",
      "alpha:0.1, beta:1.0, f1-score:0.60869565\n",
      "alpha:0.2, beta:0.0, f1-score:0.42028986\n",
      "alpha:0.2, beta:0.1, f1-score:0.42028986\n",
      "alpha:0.2, beta:0.2, f1-score:0.43478261\n",
      "alpha:0.2, beta:0.3, f1-score:0.49275362\n",
      "alpha:0.2, beta:0.4, f1-score:0.43478261\n",
      "alpha:0.2, beta:0.5, f1-score:0.34782609\n",
      "alpha:0.2, beta:0.6, f1-score:0.33333333\n",
      "alpha:0.2, beta:0.7, f1-score:0.36231884\n",
      "alpha:0.2, beta:0.8, f1-score:0.43478261\n",
      "alpha:0.2, beta:0.9, f1-score:0.49275362\n",
      "alpha:0.2, beta:1.0, f1-score:0.59420290\n",
      "alpha:0.3, beta:0.0, f1-score:0.40579710\n",
      "alpha:0.3, beta:0.1, f1-score:0.40579710\n",
      "alpha:0.3, beta:0.2, f1-score:0.36231884\n",
      "alpha:0.3, beta:0.3, f1-score:0.43478261\n",
      "alpha:0.3, beta:0.4, f1-score:0.36231884\n",
      "alpha:0.3, beta:0.5, f1-score:0.30434783\n",
      "alpha:0.3, beta:0.6, f1-score:0.30434783\n",
      "alpha:0.3, beta:0.7, f1-score:0.30434783\n",
      "alpha:0.3, beta:0.8, f1-score:0.33333333\n",
      "alpha:0.3, beta:0.9, f1-score:0.44927536\n",
      "alpha:0.3, beta:1.0, f1-score:0.56521739\n",
      "alpha:0.4, beta:0.0, f1-score:0.40579710\n",
      "alpha:0.4, beta:0.1, f1-score:0.36231884\n",
      "alpha:0.4, beta:0.2, f1-score:0.33333333\n",
      "alpha:0.4, beta:0.3, f1-score:0.43478261\n",
      "alpha:0.4, beta:0.4, f1-score:0.31884058\n",
      "alpha:0.4, beta:0.5, f1-score:0.30434783\n",
      "alpha:0.4, beta:0.6, f1-score:0.30434783\n",
      "alpha:0.4, beta:0.7, f1-score:0.30434783\n",
      "alpha:0.4, beta:0.8, f1-score:0.30434783\n",
      "alpha:0.4, beta:0.9, f1-score:0.37681159\n",
      "alpha:0.4, beta:1.0, f1-score:0.53623188\n",
      "alpha:0.5, beta:0.0, f1-score:0.39130435\n",
      "alpha:0.5, beta:0.1, f1-score:0.33333333\n",
      "alpha:0.5, beta:0.2, f1-score:0.33333333\n",
      "alpha:0.5, beta:0.3, f1-score:0.43478261\n",
      "alpha:0.5, beta:0.4, f1-score:0.30434783\n",
      "alpha:0.5, beta:0.5, f1-score:0.30434783\n",
      "alpha:0.5, beta:0.6, f1-score:0.30434783\n",
      "alpha:0.5, beta:0.7, f1-score:0.30434783\n",
      "alpha:0.5, beta:0.8, f1-score:0.30434783\n",
      "alpha:0.5, beta:0.9, f1-score:0.34782609\n",
      "alpha:0.5, beta:1.0, f1-score:0.53623188\n",
      "alpha:0.6, beta:0.0, f1-score:0.34782609\n",
      "alpha:0.6, beta:0.1, f1-score:0.33333333\n",
      "alpha:0.6, beta:0.2, f1-score:0.33333333\n",
      "alpha:0.6, beta:0.3, f1-score:0.43478261\n",
      "alpha:0.6, beta:0.4, f1-score:0.30434783\n",
      "alpha:0.6, beta:0.5, f1-score:0.30434783\n",
      "alpha:0.6, beta:0.6, f1-score:0.30434783\n",
      "alpha:0.6, beta:0.7, f1-score:0.30434783\n",
      "alpha:0.6, beta:0.8, f1-score:0.30434783\n",
      "alpha:0.6, beta:0.9, f1-score:0.30434783\n",
      "alpha:0.6, beta:1.0, f1-score:0.53623188\n",
      "alpha:0.7, beta:0.0, f1-score:0.33333333\n",
      "alpha:0.7, beta:0.1, f1-score:0.33333333\n",
      "alpha:0.7, beta:0.2, f1-score:0.33333333\n",
      "alpha:0.7, beta:0.3, f1-score:0.43478261\n",
      "alpha:0.7, beta:0.4, f1-score:0.30434783\n",
      "alpha:0.7, beta:0.5, f1-score:0.30434783\n",
      "alpha:0.7, beta:0.6, f1-score:0.30434783\n",
      "alpha:0.7, beta:0.7, f1-score:0.30434783\n",
      "alpha:0.7, beta:0.8, f1-score:0.30434783\n",
      "alpha:0.7, beta:0.9, f1-score:0.30434783\n",
      "alpha:0.7, beta:1.0, f1-score:0.52173913\n",
      "alpha:0.8, beta:0.0, f1-score:0.33333333\n",
      "alpha:0.8, beta:0.1, f1-score:0.33333333\n",
      "alpha:0.8, beta:0.2, f1-score:0.33333333\n",
      "alpha:0.8, beta:0.3, f1-score:0.43478261\n",
      "alpha:0.8, beta:0.4, f1-score:0.30434783\n",
      "alpha:0.8, beta:0.5, f1-score:0.30434783\n",
      "alpha:0.8, beta:0.6, f1-score:0.30434783\n",
      "alpha:0.8, beta:0.7, f1-score:0.30434783\n",
      "alpha:0.8, beta:0.8, f1-score:0.30434783\n",
      "alpha:0.8, beta:0.9, f1-score:0.30434783\n",
      "alpha:0.8, beta:1.0, f1-score:0.52173913\n",
      "alpha:0.9, beta:0.0, f1-score:0.33333333\n",
      "alpha:0.9, beta:0.1, f1-score:0.33333333\n",
      "alpha:0.9, beta:0.2, f1-score:0.33333333\n",
      "alpha:0.9, beta:0.3, f1-score:0.42028986\n",
      "alpha:0.9, beta:0.4, f1-score:0.30434783\n",
      "alpha:0.9, beta:0.5, f1-score:0.30434783\n",
      "alpha:0.9, beta:0.6, f1-score:0.30434783\n",
      "alpha:0.9, beta:0.7, f1-score:0.30434783\n",
      "alpha:0.9, beta:0.8, f1-score:0.30434783\n",
      "alpha:0.9, beta:0.9, f1-score:0.30434783\n",
      "alpha:0.9, beta:1.0, f1-score:0.52173913\n",
      "alpha:1.0, beta:0.0, f1-score:0.33333333\n",
      "alpha:1.0, beta:0.1, f1-score:0.33333333\n",
      "alpha:1.0, beta:0.2, f1-score:0.33333333\n",
      "alpha:1.0, beta:0.3, f1-score:0.42028986\n",
      "alpha:1.0, beta:0.4, f1-score:0.30434783\n",
      "alpha:1.0, beta:0.5, f1-score:0.30434783\n",
      "alpha:1.0, beta:0.6, f1-score:0.30434783\n",
      "alpha:1.0, beta:0.7, f1-score:0.30434783\n",
      "alpha:1.0, beta:0.8, f1-score:0.30434783\n",
      "alpha:1.0, beta:0.9, f1-score:0.30434783\n",
      "alpha:1.0, beta:1.0, f1-score:0.50724638\n"
     ]
    }
   ],
   "source": [
    "grid.fit(x_train, y_train, cv=3)"
   ]
  },
  {
   "cell_type": "code",
   "execution_count": 74,
   "metadata": {},
   "outputs": [
    {
     "data": {
      "text/plain": [
       "0.0"
      ]
     },
     "execution_count": 74,
     "metadata": {},
     "output_type": "execute_result"
    }
   ],
   "source": [
    "grid.alpha"
   ]
  },
  {
   "cell_type": "code",
   "execution_count": 75,
   "metadata": {},
   "outputs": [
    {
     "data": {
      "text/plain": [
       "0.1"
      ]
     },
     "execution_count": 75,
     "metadata": {},
     "output_type": "execute_result"
    }
   ],
   "source": [
    "grid.beta"
   ]
  },
  {
   "cell_type": "code",
   "execution_count": 76,
   "metadata": {},
   "outputs": [
    {
     "data": {
      "text/plain": [
       "0.9710144927536232"
      ]
     },
     "execution_count": 76,
     "metadata": {},
     "output_type": "execute_result"
    }
   ],
   "source": [
    "grid.best_score"
   ]
  },
  {
   "cell_type": "code",
   "execution_count": 77,
   "metadata": {},
   "outputs": [
    {
     "data": {
      "text/plain": [
       "1.0"
      ]
     },
     "execution_count": 77,
     "metadata": {},
     "output_type": "execute_result"
    }
   ],
   "source": [
    "grid.best_estimator.beta"
   ]
  },
  {
   "cell_type": "code",
   "execution_count": 79,
   "metadata": {},
   "outputs": [],
   "source": [
    "prediction = []\n",
    "for testing in x_test:\n",
    "    prediction.append(grid.best_estimator.predict(testing))"
   ]
  },
  {
   "cell_type": "code",
   "execution_count": 80,
   "metadata": {},
   "outputs": [
    {
     "data": {
      "text/plain": [
       "[2, 2, 2, 3, 2, 2, 2, 3, 2, 2, 2, 2, 3, 2, 2, 2, 2, 2]"
      ]
     },
     "execution_count": 80,
     "metadata": {},
     "output_type": "execute_result"
    }
   ],
   "source": [
    "prediction"
   ]
  },
  {
   "cell_type": "code",
   "execution_count": 81,
   "metadata": {},
   "outputs": [
    {
     "data": {
      "text/plain": [
       "0.5"
      ]
     },
     "execution_count": 81,
     "metadata": {},
     "output_type": "execute_result"
    }
   ],
   "source": [
    "f1_score(y_test, prediction, average='micro')"
   ]
  },
  {
   "cell_type": "code",
   "execution_count": 55,
   "metadata": {},
   "outputs": [
    {
     "data": {
      "text/plain": [
       "3"
      ]
     },
     "execution_count": 55,
     "metadata": {},
     "output_type": "execute_result"
    }
   ],
   "source": [
    "y_test[9]"
   ]
  },
  {
   "cell_type": "code",
   "execution_count": null,
   "metadata": {},
   "outputs": [],
   "source": [
    "rda_cov = {int(k):v.tolist() for k,v in cov.items()}"
   ]
  },
  {
   "cell_type": "code",
   "execution_count": null,
   "metadata": {},
   "outputs": [],
   "source": [
    "# import json\n",
    "# with open('covariance.json','w') as f:\n",
    "#     json.dump(rda_cov, f)"
   ]
  }
 ],
 "metadata": {
  "interpreter": {
   "hash": "beb438d93d12d7d23f01da6e4ea2d18002922c4c96e890e3b42977e18c7fe317"
  },
  "kernelspec": {
   "display_name": "Python 3.8.5 64-bit (conda)",
   "name": "python3"
  },
  "language_info": {
   "codemirror_mode": {
    "name": "ipython",
    "version": 3
   },
   "file_extension": ".py",
   "mimetype": "text/x-python",
   "name": "python",
   "nbconvert_exporter": "python",
   "pygments_lexer": "ipython3",
   "version": "3.8.5"
  },
  "orig_nbformat": 4
 },
 "nbformat": 4,
 "nbformat_minor": 2
}
