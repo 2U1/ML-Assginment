{
 "cells": [
  {
   "cell_type": "code",
   "execution_count": 1,
   "metadata": {},
   "outputs": [],
   "source": [
    "import pandas as pd\n",
    "import numpy as np\n",
    "from sklearn.model_selection import train_test_split\n",
    "from sklearn.metrics import accuracy_score, precision_score, recall_score, confusion_matrix, f1_score\n",
    "from tqdm import tqdm\n",
    "import itertools"
   ]
  },
  {
   "cell_type": "code",
   "execution_count": 2,
   "metadata": {},
   "outputs": [],
   "source": [
    "def get_clf_eval(y_test, pred):\n",
    "    accuracy = accuracy_score(y_test, pred)\n",
    "    recall = recall_score(y_test, pred, average='micro')\n",
    "    precision = precision_score(y_test, pred, average='micro')\n",
    "    f1 = f1_score(y_test, pred, average='micro')\n",
    "    print('Accuracy:{0:.4f}, Recall:{1:.4f}, Precision:{2:.4f}, F1-Score:{3:.4f}'.format(accuracy, recall, precision, f1))"
   ]
  },
  {
   "cell_type": "code",
   "execution_count": 3,
   "metadata": {},
   "outputs": [],
   "source": [
    "def make_confusion(y_test, y_pred):\n",
    "    confusion = confusion_matrix(y_test,y_pred)\n",
    "    confusion_df = pd.DataFrame(confusion,columns=['Predicted_Negative','Predicted_Positive'],index=['Actual_Negative','Actual_Positive'])\n",
    "    \n",
    "    return confusion_df"
   ]
  },
  {
   "cell_type": "code",
   "execution_count": 4,
   "metadata": {},
   "outputs": [],
   "source": [
    "class DiscriminentAnalysis():\n",
    "    def __init__(self, alpha=0.0, beta=0.0):\n",
    "        self.learned = False\n",
    "        self.alpha = alpha\n",
    "        self.beta = beta\n",
    "        self.class_names = []\n",
    "        self.class_priors = {}\n",
    "        self.class_means = {}\n",
    "        self.regularized_covariances = {}\n",
    "        self.rda_covariances = {}\n",
    "        self.reset()\n",
    "\n",
    "    def reset(self):\n",
    "        self.learned = False\n",
    "        self.class_names = []\n",
    "        self.class_priors = {}\n",
    "        self.class_means = {}\n",
    "        self.regularized_covariances = {}\n",
    "        self.rda_covariances = {}\n",
    "\n",
    "    def fit(self, X, y):\n",
    "        self.class_names = np.unique(y)\n",
    "        class_covariances = {}\n",
    "        pooled_covariances = 0\n",
    "        for i in self.class_names:\n",
    "            class_indices = np.where(y == i)[0]\n",
    "            class_samples = X[class_indices, :]\n",
    "            self.class_priors[i] = float(len(class_indices)) / len(y)\n",
    "            self.class_means[i] = np.mean(class_samples, axis=0)\n",
    "            class_covariances[i] = np.cov(class_samples, rowvar=0)\n",
    "            pooled_covariances += class_covariances[i] * self.class_priors[i]\n",
    "        # Calculate RDA regularized covariance matricies for each class\n",
    "        for i in self.class_names:\n",
    "            self.regularized_covariances[i] = (self.beta * pooled_covariances) + ((1 - self.beta) *class_covariances[i])\n",
    "            # self.regularized_covariances[i] = (self.beta * class_covariances[i]) + ((1 - self.beta) * pooled_covariances)\n",
    "\n",
    "        for i in self.class_names:\n",
    "            self.rda_covariances[i] = ((1-self.alpha) * self.regularized_covariances[i]) + (self.alpha * (1/self.class_priors[i]) * np.trace(self.regularized_covariances[i]) * np.eye(self.regularized_covariances[i].shape[0]))\n",
    "        \n",
    "        self.learned = True\n",
    "        return self\n",
    "\n",
    "    def predict(self, x):\n",
    "        if not self.learned:\n",
    "            raise NameError('Fit model first')\n",
    "        # Determine probability of each class given input vector\n",
    "        \n",
    "        class_prob = {}\n",
    "        for i in self.class_names:\n",
    "            # Divid the class delta calculation into 3 parts\n",
    "            part1 = -0.5 * np.linalg.det(self.rda_covariances[i])\n",
    "            part2 = -0.5 * np.dot(np.dot((x - self.class_means[i]).T, np.linalg.pinv(self.rda_covariances[i])), (x - self.class_means[i]))\n",
    "            part3 = np.log(self.class_priors[i])\n",
    "            class_prob[i] = part1 + part2 + part3\n",
    "        return max(class_prob, key=class_prob.get)"
   ]
  },
  {
   "cell_type": "code",
   "execution_count": 21,
   "metadata": {},
   "outputs": [],
   "source": [
    "class GridSearchRDA():\n",
    "    def __init__(self, model, param_grid):\n",
    "        self.model = model\n",
    "        self.param_grid = param_grid\n",
    "        self.alpha = 0\n",
    "        self.beta = 0\n",
    "        self.best_covariance = {}\n",
    "        self.best_score = 0\n",
    "\n",
    "\n",
    "    def fit(self, X, y, cv=3):\n",
    "        \n",
    "        # metric_score = []\n",
    "\n",
    "        alpha_list = self.param_grid['alpha']\n",
    "        beta_list = self.param_grid['beta']\n",
    "\n",
    "        cv_x = np.split(X, cv)\n",
    "        cv_y = np.split(y, cv)\n",
    "\n",
    "        for alpha in alpha_list:\n",
    "            for beta in beta_list:\n",
    "                score_list = []\n",
    "                for i in range(cv):\n",
    "                    self.model.reset()\n",
    "                    self.model.alpha = alpha\n",
    "                    self.model.beta = beta\n",
    "\n",
    "                    test_x_cv = cv_x[i]\n",
    "                    train_x_cv = np.array(cv_x[:i] + cv_x[i + 1:])\n",
    "                    train_x_cv2 = train_x_cv.reshape(46, 22)\n",
    "                    train_x_cv2 = np.array(train_x_cv)\n",
    "\n",
    "                    test_y_cv = cv_y[i]\n",
    "                    train_y_cv = np.array(cv_y[:i] + cv_y[i + 1:])\n",
    "                    train_y_cv2 = train_y_cv.reshape(46,)\n",
    "\n",
    "                    self.model.fit(train_x_cv2, train_y_cv2)\n",
    "\n",
    "                    pred = []\n",
    "\n",
    "                    for data in test_x_cv:\n",
    "                        pred.append(self.model.predict(data))\n",
    "                    \n",
    "                    score_list.append(f1_score(test_y_cv, pred, average='micro'))\n",
    "                \n",
    "                mean_score = np.mean(np.array(score_list))\n",
    "                print(\"alpha:{0:.1f}, beta:{1:.1f}, f1-score:{2:.4f}\".format(alpha, beta,mean_score))\n",
    "\n",
    "                if mean_score > self.best_score:\n",
    "                    self.best_score = mean_score\n",
    "                    self.alpha = alpha\n",
    "                    self.beta = beta\n",
    "                    self.best_covariance = self.model.rda_covariances"
   ]
  },
  {
   "cell_type": "code",
   "execution_count": 22,
   "metadata": {},
   "outputs": [],
   "source": [
    "data = pd.read_excel('../data.xlsx')"
   ]
  },
  {
   "cell_type": "code",
   "execution_count": 23,
   "metadata": {},
   "outputs": [],
   "source": [
    "y = data['Class Label'].to_numpy()\n",
    "x = data.loc[:, data.columns != 'Class Label'].to_numpy()"
   ]
  },
  {
   "cell_type": "code",
   "execution_count": 24,
   "metadata": {},
   "outputs": [],
   "source": [
    "x_train, x_test, y_train, y_test = train_test_split(x, y, test_size = 0.2, stratify=y, random_state=102)"
   ]
  },
  {
   "cell_type": "code",
   "execution_count": 25,
   "metadata": {},
   "outputs": [],
   "source": [
    "dis = DiscriminentAnalysis()"
   ]
  },
  {
   "cell_type": "code",
   "execution_count": 26,
   "metadata": {},
   "outputs": [],
   "source": [
    "params = {\n",
    "    'alpha': np.linspace(0.0, 1.0, num=11, endpoint=True),\n",
    "    'beta': np.linspace(0.0, 1.0, num=11, endpoint=True)\n",
    "}"
   ]
  },
  {
   "cell_type": "code",
   "execution_count": 27,
   "metadata": {},
   "outputs": [],
   "source": [
    "grid = GridSearchRDA(dis, params)"
   ]
  },
  {
   "cell_type": "code",
   "execution_count": 28,
   "metadata": {},
   "outputs": [
    {
     "ename": "IndexError",
     "evalue": "index 3 is out of bounds for axis 0 with size 2",
     "output_type": "error",
     "traceback": [
      "\u001b[1;31m---------------------------------------------------------------------------\u001b[0m",
      "\u001b[1;31mIndexError\u001b[0m                                Traceback (most recent call last)",
      "\u001b[1;32m<ipython-input-28-5c1a113d193d>\u001b[0m in \u001b[0;36m<module>\u001b[1;34m\u001b[0m\n\u001b[1;32m----> 1\u001b[1;33m \u001b[0mgrid\u001b[0m\u001b[1;33m.\u001b[0m\u001b[0mfit\u001b[0m\u001b[1;33m(\u001b[0m\u001b[0mx_train\u001b[0m\u001b[1;33m,\u001b[0m \u001b[0my_train\u001b[0m\u001b[1;33m,\u001b[0m \u001b[0mcv\u001b[0m\u001b[1;33m=\u001b[0m\u001b[1;36m3\u001b[0m\u001b[1;33m)\u001b[0m\u001b[1;33m\u001b[0m\u001b[1;33m\u001b[0m\u001b[0m\n\u001b[0m",
      "\u001b[1;32m<ipython-input-21-798a809fda78>\u001b[0m in \u001b[0;36mfit\u001b[1;34m(self, X, y, cv)\u001b[0m\n\u001b[0;32m     36\u001b[0m                     \u001b[0mtrain_y_cv2\u001b[0m \u001b[1;33m=\u001b[0m \u001b[0mtrain_y_cv\u001b[0m\u001b[1;33m.\u001b[0m\u001b[0mreshape\u001b[0m\u001b[1;33m(\u001b[0m\u001b[1;36m46\u001b[0m\u001b[1;33m,\u001b[0m\u001b[1;33m)\u001b[0m\u001b[1;33m\u001b[0m\u001b[1;33m\u001b[0m\u001b[0m\n\u001b[0;32m     37\u001b[0m \u001b[1;33m\u001b[0m\u001b[0m\n\u001b[1;32m---> 38\u001b[1;33m                     \u001b[0mself\u001b[0m\u001b[1;33m.\u001b[0m\u001b[0mmodel\u001b[0m\u001b[1;33m.\u001b[0m\u001b[0mfit\u001b[0m\u001b[1;33m(\u001b[0m\u001b[0mtrain_x_cv2\u001b[0m\u001b[1;33m,\u001b[0m \u001b[0mtrain_y_cv2\u001b[0m\u001b[1;33m)\u001b[0m\u001b[1;33m\u001b[0m\u001b[1;33m\u001b[0m\u001b[0m\n\u001b[0m\u001b[0;32m     39\u001b[0m \u001b[1;33m\u001b[0m\u001b[0m\n\u001b[0;32m     40\u001b[0m                     \u001b[0mpred\u001b[0m \u001b[1;33m=\u001b[0m \u001b[1;33m[\u001b[0m\u001b[1;33m]\u001b[0m\u001b[1;33m\u001b[0m\u001b[1;33m\u001b[0m\u001b[0m\n",
      "\u001b[1;32m<ipython-input-4-2d16c6bccd58>\u001b[0m in \u001b[0;36mfit\u001b[1;34m(self, X, y)\u001b[0m\n\u001b[0;32m     25\u001b[0m         \u001b[1;32mfor\u001b[0m \u001b[0mi\u001b[0m \u001b[1;32min\u001b[0m \u001b[0mself\u001b[0m\u001b[1;33m.\u001b[0m\u001b[0mclass_names\u001b[0m\u001b[1;33m:\u001b[0m\u001b[1;33m\u001b[0m\u001b[1;33m\u001b[0m\u001b[0m\n\u001b[0;32m     26\u001b[0m             \u001b[0mclass_indices\u001b[0m \u001b[1;33m=\u001b[0m \u001b[0mnp\u001b[0m\u001b[1;33m.\u001b[0m\u001b[0mwhere\u001b[0m\u001b[1;33m(\u001b[0m\u001b[0my\u001b[0m \u001b[1;33m==\u001b[0m \u001b[0mi\u001b[0m\u001b[1;33m)\u001b[0m\u001b[1;33m[\u001b[0m\u001b[1;36m0\u001b[0m\u001b[1;33m]\u001b[0m\u001b[1;33m\u001b[0m\u001b[1;33m\u001b[0m\u001b[0m\n\u001b[1;32m---> 27\u001b[1;33m             \u001b[0mclass_samples\u001b[0m \u001b[1;33m=\u001b[0m \u001b[0mX\u001b[0m\u001b[1;33m[\u001b[0m\u001b[0mclass_indices\u001b[0m\u001b[1;33m,\u001b[0m \u001b[1;33m:\u001b[0m\u001b[1;33m]\u001b[0m\u001b[1;33m\u001b[0m\u001b[1;33m\u001b[0m\u001b[0m\n\u001b[0m\u001b[0;32m     28\u001b[0m             \u001b[0mself\u001b[0m\u001b[1;33m.\u001b[0m\u001b[0mclass_priors\u001b[0m\u001b[1;33m[\u001b[0m\u001b[0mi\u001b[0m\u001b[1;33m]\u001b[0m \u001b[1;33m=\u001b[0m \u001b[0mfloat\u001b[0m\u001b[1;33m(\u001b[0m\u001b[0mlen\u001b[0m\u001b[1;33m(\u001b[0m\u001b[0mclass_indices\u001b[0m\u001b[1;33m)\u001b[0m\u001b[1;33m)\u001b[0m \u001b[1;33m/\u001b[0m \u001b[0mlen\u001b[0m\u001b[1;33m(\u001b[0m\u001b[0my\u001b[0m\u001b[1;33m)\u001b[0m\u001b[1;33m\u001b[0m\u001b[1;33m\u001b[0m\u001b[0m\n\u001b[0;32m     29\u001b[0m             \u001b[0mself\u001b[0m\u001b[1;33m.\u001b[0m\u001b[0mclass_means\u001b[0m\u001b[1;33m[\u001b[0m\u001b[0mi\u001b[0m\u001b[1;33m]\u001b[0m \u001b[1;33m=\u001b[0m \u001b[0mnp\u001b[0m\u001b[1;33m.\u001b[0m\u001b[0mmean\u001b[0m\u001b[1;33m(\u001b[0m\u001b[0mclass_samples\u001b[0m\u001b[1;33m,\u001b[0m \u001b[0maxis\u001b[0m\u001b[1;33m=\u001b[0m\u001b[1;36m0\u001b[0m\u001b[1;33m)\u001b[0m\u001b[1;33m\u001b[0m\u001b[1;33m\u001b[0m\u001b[0m\n",
      "\u001b[1;31mIndexError\u001b[0m: index 3 is out of bounds for axis 0 with size 2"
     ]
    }
   ],
   "source": [
    "grid.fit(x_train, y_train, cv=3)"
   ]
  },
  {
   "cell_type": "code",
   "execution_count": null,
   "metadata": {},
   "outputs": [],
   "source": [
    "rda_cov = {int(k):v.tolist() for k,v in cov.items()}"
   ]
  },
  {
   "cell_type": "code",
   "execution_count": null,
   "metadata": {},
   "outputs": [],
   "source": [
    "# import json\n",
    "# with open('covariance.json','w') as f:\n",
    "#     json.dump(rda_cov, f)"
   ]
  }
 ],
 "metadata": {
  "interpreter": {
   "hash": "beb438d93d12d7d23f01da6e4ea2d18002922c4c96e890e3b42977e18c7fe317"
  },
  "kernelspec": {
   "display_name": "Python 3.8.5 64-bit (conda)",
   "name": "python3"
  },
  "language_info": {
   "codemirror_mode": {
    "name": "ipython",
    "version": 3
   },
   "file_extension": ".py",
   "mimetype": "text/x-python",
   "name": "python",
   "nbconvert_exporter": "python",
   "pygments_lexer": "ipython3",
   "version": "3.8.5"
  },
  "orig_nbformat": 4
 },
 "nbformat": 4,
 "nbformat_minor": 2
}
