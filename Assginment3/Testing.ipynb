{
 "cells": [
  {
   "cell_type": "code",
   "execution_count": 1,
   "metadata": {},
   "outputs": [],
   "source": [
    "import numpy as np\n",
    "import matplotlib.pyplot as plt\n",
    "from scipy.stats import multivariate_normal\n",
    "import pandas as pd\n",
    "from sklearn.cluster import KMeans"
   ]
  },
  {
   "cell_type": "code",
   "execution_count": 2,
   "metadata": {},
   "outputs": [],
   "source": [
    "x=[]\n",
    "\n",
    "with open(\"./GMM-data.txt\", \"r\") as f:\n",
    "    while True:\n",
    "        line = f.readline()\n",
    "        if not line:\n",
    "            break\n",
    "        line = line.replace(\"\\n\", \"\")\n",
    "        line = list(map(float, line.split(\" \")))\n",
    "        x.append(line)\n",
    "x = np.asarray(x)"
   ]
  },
  {
   "cell_type": "code",
   "execution_count": 3,
   "metadata": {},
   "outputs": [],
   "source": [
    "class GaussianMixture(object):\n",
    "    \"\"\"\n",
    "    Gaussian Mixture classification\n",
    "    \"\"\"\n",
    "    def __init__(self, c=2):\n",
    "        \"\"\"\n",
    "        Attributes:\n",
    "            samples (np.ndarray): Data to determine gaussian mixtures for\n",
    "            mus (dict): class means {class: [mean1, mean2, ...]}\n",
    "            covs (dict): class covariance matrices {class :[COV]}\n",
    "            priors (dict): class prior probabilities {class: prior}\n",
    "            responsibility_matrix (dict): responsibility matrix in EM\n",
    "            c (int): number of Guasian components\n",
    "            learned (bool): Keeps track of if model has been fit\n",
    "        \"\"\"\n",
    "        self.samples = np.nan\n",
    "        self.mus = np.nan\n",
    "        self.covs = np.nan\n",
    "        self.priors = np.nan\n",
    "        self.responsibility_matrix = np.nan\n",
    "        self.c = c\n",
    "        self.learned = False\n",
    "        self.likelihood = 0\n",
    "        self.likelhood_list = []\n",
    "\n",
    "    def reset(self, c):\n",
    "        self.samples = np.nan\n",
    "        self.mus = np.nan\n",
    "        self.covs = np.nan\n",
    "        self.priors = np.nan\n",
    "        self.c = c\n",
    "        self.responsibility_matrix = np.nan\n",
    "        self.learned = False\n",
    "        self.likelihood = 0\n",
    "        self.likelhood_list = []\n",
    "\n",
    "\n",
    "\n",
    "    def fit(self, X, iterations=50):\n",
    "        \"\"\"\n",
    "        Args:\n",
    "            X (np.ndarray): Training data of shape[n_samples, n_features]\n",
    "            iterations (int): number of EM interations until stopping\n",
    "        Returns: an instance of self\n",
    "        \"\"\"\n",
    "        self.samples = X\n",
    "        n_samples = np.shape(X)[0]\n",
    "        n_features = np.shape(X)[1]\n",
    "\n",
    "        kmean = KMeans(n_clusters=self.c).fit(self.samples)\n",
    "        initial_means = list(kmean.cluster_centers_)\n",
    "\n",
    "        # Initialize mus, covs, priors\n",
    "        # initial_indices = np.random.choice(range(n_samples), self.c, replace=False)\n",
    "\n",
    "        # self.mus = X[initial_indices, :]\n",
    "        self.mus = initial_means\n",
    "        self.covs = [np.identity(n_features) for i in range(self.c)]\n",
    "        self.priors = [1.0/self.c for i in range(self.c)]\n",
    "\n",
    "        count = 0\n",
    "        # for iteration until it converges:\n",
    "        while True:\n",
    "            count += 1\n",
    "            new_likelihood = 0\n",
    "            self.responsibility_matrix = self._expectation()\n",
    "            self.priors, self.mus, self.covs = self._maximization()\n",
    "            likelihood_prob = []\n",
    "            for sample in self.samples:\n",
    "                probabilities = [0 for i in range(self.c)]\n",
    "                for k in range(self.c):\n",
    "                    probability = multivariate_normal.pdf(sample, mean=self.mus[k], cov=self.covs[k]) * self.priors[k]\n",
    "                    probabilities[k] = probability\n",
    "                    \n",
    "                sum_of_prob = sum(probabilities)\n",
    "                likelihood_prob.append(np.log(sum_of_prob))\n",
    "            \n",
    "            new_likelihood = sum(likelihood_prob)\n",
    "\n",
    "            self.likelhood_list.append(new_likelihood)\n",
    "            \n",
    "            if count % 10 == 0:\n",
    "                print('='*20,count,'='*20)\n",
    "\n",
    "            if abs(new_likelihood - self.likelihood) < 1e-5:\n",
    "                break\n",
    "\n",
    "            else:\n",
    "                self.likelihood = new_likelihood\n",
    "\n",
    "        \n",
    "        self.learned = True\n",
    "        return self\n",
    "\n",
    "    def _expectations(self, point):\n",
    "        responsibilities = [0 for i in range(self.c)]\n",
    "        for k in range(self.c):\n",
    "            probability = multivariate_normal.pdf(point,mean=self.mus[k], cov=self.covs[k]) * self.priors[k]\n",
    "            responsibilities[k] = probability\n",
    "        responsibilities = [float(i) / sum(responsibilities)\n",
    "                            for i in responsibilities]\n",
    "        return responsibilities\n",
    "\n",
    "    def _expectation(self):\n",
    "        return np.apply_along_axis(self._expectations, 1, self.samples)\n",
    "\n",
    "    def _maximization(self):\n",
    "        # Maximize priors\n",
    "        priors = sum(self.responsibility_matrix)\n",
    "        priors = [float(i)/sum(priors) for i in priors]\n",
    "\n",
    "        # Maximize means\n",
    "        mus = [0 for i in range(self.c)]\n",
    "        for k in range(self.c):\n",
    "            mus_k = sum(np.multiply(self.samples,\n",
    "                                    self.responsibility_matrix[:, k][:, np.newaxis]))\n",
    "            normalized_mus_k = mus_k / sum(self.responsibility_matrix[:, k])\n",
    "            mus[k] = normalized_mus_k\n",
    "\n",
    "        # Maximize covariances\n",
    "        covs = [0 for i in range(self.c)]\n",
    "        # temp = [0 for n in range(len(self.samples))]\n",
    "        for k in range(self.c):\n",
    "            # 추후에 수정이 필요할 것으로 보이는데 방향 모색중\n",
    "            # 착수 인원 있으면 같이 고민좀 부탁함\n",
    "\n",
    "            x_mean_diff = self.samples - mus[k]\n",
    "            x_mean_diff_res = np.multiply(x_mean_diff, self.responsibility_matrix[:,k][:,np.newaxis])\n",
    "\n",
    "            cov = np.dot(x_mean_diff_res.T, x_mean_diff) / sum(self.responsibility_matrix[:, k])\n",
    "            covs[k] = cov\n",
    "            \n",
    "            # covs[k] = np.cov(self.samples.T, aweights=self.responsibility_matrix[:, k])\n",
    "\n",
    "        return priors, mus, covs\n",
    "\n",
    "    def predict(self, x, probs=False):\n",
    "        \"\"\"\n",
    "        Note: currenly only works on single vector and not matrices\n",
    "        Args:\n",
    "            x (np.ndarray): Training data of shape[1, n_features]\n",
    "            probs (bool): if True, returns probability of each class as well\n",
    "        Returns:\n",
    "            float: Returns predicted class\n",
    "        Raises:\n",
    "            ValueError if model has not been fit\n",
    "        \"\"\"\n",
    "        if not self.learned:\n",
    "            raise NameError('Fit model first')\n",
    "\n",
    "        probabilities = [0 for i in range(self.c)]\n",
    "        for k in range(self.c):\n",
    "            probability = multivariate_normal.pdf(x, mean=self.mus[k], cov=self.covs[k]) * self.priors[k]\n",
    "            probabilities[k] = probability\n",
    "        max_class = np.argmax(probabilities)\n",
    "        class_probs = [float(i)/sum(probabilities) for i in probabilities]\n",
    "        if probs:\n",
    "            return (max_class, class_probs)\n",
    "        return np.argmax(probabilities)\n",
    "\n",
    "\n",
    "    def fit_predict(self, x):\n",
    "        pred = []\n",
    "        self.fit(x)\n",
    "        \n",
    "        \n",
    "        for data in x:\n",
    "            pred.append(self.predict(data))\n",
    "\n",
    "        return np.asarray(pred)"
   ]
  },
  {
   "cell_type": "code",
   "execution_count": 4,
   "metadata": {},
   "outputs": [],
   "source": [
    "class GridSearch():\n",
    "    def __init__(self, model, param_grid):\n",
    "        self.model = model\n",
    "        self.param_grid = param_grid\n",
    "        self.classified = []\n",
    "        \n",
    "    def fit(self, x):\n",
    "        k_list = self.param_grid['k']\n",
    "\n",
    "        if min(k_list) < 2:\n",
    "            raise NameError(\"Minimum value of k should be larger than 2\")\n",
    "        \n",
    "        for k in k_list:\n",
    "            self.model.reset(k)\n",
    "            pred = self.model.fit_predict(x)\n",
    "            \n",
    "            labled_data = {\n",
    "                    'feature1': x[:,0],\n",
    "                    'feature2': x[:,1],\n",
    "                    'label': pred\n",
    "                }\n",
    "\n",
    "            labeled_df = pd.DataFrame(labled_data)\n",
    "            \n",
    "            self.classified.append(labeled_df)\n",
    "\n",
    "        return self\n",
    "\n",
    "    def plotting(self):\n",
    "\n",
    "\n",
    "        n_fig = len(self.classified)\n",
    "        \n",
    "        fig, ax = plt.subplots(n_fig)\n",
    "        fig.set_size_inches(3*n_fig,7*n_fig)\n",
    "        \n",
    "        for index, labeled in enumerate(self.classified):\n",
    "\n",
    "            groups = labeled.groupby('label')\n",
    "\n",
    "            num_of_k = labeled['label'].max() + 1\n",
    "            \n",
    "            \n",
    "            for name, group in groups:\n",
    "                ax[index].plot(\n",
    "                    group.feature1,\n",
    "                    group.feature2,\n",
    "                    marker='o',\n",
    "                    linestyle='',\n",
    "                    label=name\n",
    "                )\n",
    "\n",
    "            ax[index].legend(fontsize=8, loc='upper left')\n",
    "            ax[index].set_title(\"Scatter plot in grouped by GMM(k={0})\".format(num_of_k), fontsize=20)\n",
    "            ax[index].set_xlabel(\"Feature1\")\n",
    "            ax[index].set_ylabel('Feature2')\n",
    "\n",
    "        plt.show()"
   ]
  },
  {
   "cell_type": "code",
   "execution_count": 5,
   "metadata": {},
   "outputs": [],
   "source": [
    "gmm = GaussianMixture(c=3)"
   ]
  },
  {
   "cell_type": "code",
   "execution_count": 6,
   "metadata": {},
   "outputs": [
    {
     "name": "stdout",
     "output_type": "stream",
     "text": [
      "==================== 10 ====================\n",
      "==================== 20 ====================\n",
      "==================== 30 ====================\n",
      "==================== 40 ====================\n",
      "==================== 50 ====================\n",
      "==================== 60 ====================\n",
      "==================== 70 ====================\n",
      "==================== 80 ====================\n",
      "==================== 90 ====================\n",
      "==================== 100 ====================\n",
      "==================== 110 ====================\n",
      "==================== 120 ====================\n",
      "==================== 130 ====================\n",
      "==================== 140 ====================\n"
     ]
    }
   ],
   "source": [
    "gmm_label = gmm.fit_predict(x)"
   ]
  },
  {
   "cell_type": "code",
   "execution_count": 7,
   "metadata": {},
   "outputs": [],
   "source": [
    "data_label = {\n",
    "    'feature1': x[:,0],\n",
    "    'feature2': x[:,1],\n",
    "    'label': gmm_label\n",
    "}\n",
    "cdict={0:'red',1:'green',2:'blue',3:'yellow'}\n",
    "\n",
    "gmm_df = pd.DataFrame(data_label)"
   ]
  },
  {
   "cell_type": "code",
   "execution_count": 8,
   "metadata": {},
   "outputs": [],
   "source": [
    "groups = gmm_df.groupby('label')"
   ]
  },
  {
   "cell_type": "code",
   "execution_count": 9,
   "metadata": {},
   "outputs": [],
   "source": [
    "# parmas={\n",
    "#     'k' : [2,3,4,5]\n",
    "# }"
   ]
  },
  {
   "cell_type": "code",
   "execution_count": 10,
   "metadata": {},
   "outputs": [],
   "source": [
    "# model = GaussianMixture()\n",
    "# grid = GridSearch(model, parmas)"
   ]
  },
  {
   "cell_type": "code",
   "execution_count": 11,
   "metadata": {},
   "outputs": [],
   "source": [
    "# grid.fit(x)"
   ]
  },
  {
   "cell_type": "code",
   "execution_count": 12,
   "metadata": {},
   "outputs": [],
   "source": [
    "# grid.plotting()"
   ]
  },
  {
   "cell_type": "code",
   "execution_count": 13,
   "metadata": {},
   "outputs": [
    {
     "data": {
      "image/png": "[encoded data removed]",
      "text/plain": [
       "<Figure size 432x288 with 1 Axes>"
      ]
     },
     "metadata": {
      "needs_background": "light"
     },
     "output_type": "display_data"
    }
   ],
   "source": [
    "fig, ax = plt.subplots()\n",
    "\n",
    "for name, group in groups:\n",
    "    ax.plot(\n",
    "        group.feature1,\n",
    "        group.feature2,\n",
    "        marker='o',\n",
    "        linestyle='',\n",
    "        label=name\n",
    "    )\n",
    "\n",
    "ax.legend(fontsize=8, loc='upper left')\n",
    "plt.title(\"Scatter plot in grouped by GMM\", fontsize=20)\n",
    "plt.xlabel(\"Feature1\")\n",
    "plt.ylabel('Feature2')\n",
    "plt.show()"
   ]
  },
  {
   "cell_type": "code",
   "execution_count": 14,
   "metadata": {},
   "outputs": [
    {
     "data": {
      "image/png": "[encoded data removed]",
      "text/plain": [
       "<Figure size 432x288 with 1 Axes>"
      ]
     },
     "metadata": {
      "needs_background": "light"
     },
     "output_type": "display_data"
    }
   ],
   "source": [
    "plt.plot(gmm.likelhood_list)\n",
    "plt.show()"
   ]
  },
  {
   "cell_type": "code",
   "execution_count": null,
   "metadata": {},
   "outputs": [],
   "source": []
  }
 ],
 "metadata": {
  "interpreter": {
   "hash": "43fca320eefe316221639e396a84428aca808891050a7e8ec5f8ad03105e4a37"
  },
  "kernelspec": {
   "display_name": "Python 3.8.5 64-bit ('base': conda)",
   "name": "python3"
  },
  "language_info": {
   "codemirror_mode": {
    "name": "ipython",
    "version": 3
   },
   "file_extension": ".py",
   "mimetype": "text/x-python",
   "name": "python",
   "nbconvert_exporter": "python",
   "pygments_lexer": "ipython3",
   "version": "3.8.5"
  },
  "orig_nbformat": 4
 },
 "nbformat": 4,
 "nbformat_minor": 2
}
